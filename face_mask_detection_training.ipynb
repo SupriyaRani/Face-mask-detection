{
 "cells": [
  {
   "cell_type": "code",
   "execution_count": 2,
   "metadata": {},
   "outputs": [],
   "source": [
    "# pip install ultralytics>=8.2.95\n",
    "# ! pip install scikit-learn\n",
    "# ! pip uninstall ultralytics\n",
    "# ! pip install ultralytics\n"
   ]
  },
  {
   "cell_type": "code",
   "execution_count": 2,
   "metadata": {},
   "outputs": [],
   "source": [
    "# Import library\n",
    "import os\n",
    "import xml.etree.ElementTree as ET\n",
    "# from PIL import Image\n",
    "import pandas as pd\n",
    "from ultralytics import YOLO\n",
    "import matplotlib.pyplot as plt\n",
    "import seaborn as sns\n",
    "# from sklearn.metrics import confusion_matrix\n",
    "from PIL import Image\n",
    "import shutil\n",
    "# from sklearn.model_selection import train_test_split"
   ]
  },
  {
   "cell_type": "code",
   "execution_count": 3,
   "metadata": {},
   "outputs": [],
   "source": [
    "# Define class names and their corresponding IDs\n",
    "class_names = {'with_mask': 0, 'without_mask': 1, 'mask_weared_incorrect': 2}"
   ]
  },
  {
   "cell_type": "code",
   "execution_count": 3,
   "metadata": {},
   "outputs": [],
   "source": [
    "annotations_dir = 'datasets/annotations'\n",
    "images_dir = 'datasets/images'\n",
    "output_dir = 'datasets/dataset'\n",
    "os.makedirs(f\"{output_dir}/images\", exist_ok=True)\n",
    "os.makedirs(f\"{output_dir}/labels\", exist_ok=True)"
   ]
  },
  {
   "cell_type": "code",
   "execution_count": 4,
   "metadata": {},
   "outputs": [
    {
     "ename": "FileNotFoundError",
     "evalue": "[WinError 3] The system cannot find the path specified: 'datasets/images'",
     "output_type": "error",
     "traceback": [
      "\u001b[1;31m---------------------------------------------------------------------------\u001b[0m",
      "\u001b[1;31mFileNotFoundError\u001b[0m                         Traceback (most recent call last)",
      "Cell \u001b[1;32mIn [4], line 21\u001b[0m\n\u001b[0;32m     18\u001b[0m os\u001b[38;5;241m.\u001b[39mmakedirs(test_annotations_dir, exist_ok\u001b[38;5;241m=\u001b[39m\u001b[38;5;28;01mTrue\u001b[39;00m)\n\u001b[0;32m     20\u001b[0m \u001b[38;5;66;03m# Get list of all image files\u001b[39;00m\n\u001b[1;32m---> 21\u001b[0m image_files \u001b[38;5;241m=\u001b[39m [f \u001b[38;5;28;01mfor\u001b[39;00m f \u001b[38;5;129;01min\u001b[39;00m \u001b[43mos\u001b[49m\u001b[38;5;241;43m.\u001b[39;49m\u001b[43mlistdir\u001b[49m\u001b[43m(\u001b[49m\u001b[43mimages_dir\u001b[49m\u001b[43m)\u001b[49m \u001b[38;5;28;01mif\u001b[39;00m f\u001b[38;5;241m.\u001b[39mendswith(\u001b[38;5;124m'\u001b[39m\u001b[38;5;124m.png\u001b[39m\u001b[38;5;124m'\u001b[39m)]\n\u001b[0;32m     23\u001b[0m \u001b[38;5;66;03m# Split the dataset into train and temp (which will be further split into val and test)\u001b[39;00m\n\u001b[0;32m     24\u001b[0m train_files, temp_files \u001b[38;5;241m=\u001b[39m train_test_split(image_files, test_size\u001b[38;5;241m=\u001b[39m\u001b[38;5;241m0.3\u001b[39m, random_state\u001b[38;5;241m=\u001b[39m\u001b[38;5;241m42\u001b[39m)\n",
      "\u001b[1;31mFileNotFoundError\u001b[0m: [WinError 3] The system cannot find the path specified: 'datasets/images'"
     ]
    }
   ],
   "source": [
    "# Define paths\n",
    "images_dir = 'datasets/images'\n",
    "annotations_dir = 'datasets/annotations'\n",
    "\n",
    "train_images_dir = 'datasets/train/images'\n",
    "train_annotations_dir = 'datasets/train/annotations'\n",
    "val_images_dir = 'datasets/val/images'\n",
    "val_annotations_dir = 'datasets/val/annotations'\n",
    "test_images_dir = 'datasets/test/images'\n",
    "test_annotations_dir = 'datasets/test/annotations'\n",
    "\n",
    "# Create directories if they don't exist\n",
    "os.makedirs(train_images_dir, exist_ok=True)\n",
    "os.makedirs(train_annotations_dir, exist_ok=True)\n",
    "os.makedirs(val_images_dir, exist_ok=True)\n",
    "os.makedirs(val_annotations_dir, exist_ok=True)\n",
    "os.makedirs(test_images_dir, exist_ok=True)\n",
    "os.makedirs(test_annotations_dir, exist_ok=True)\n",
    "\n",
    "# Get list of all image files\n",
    "image_files = [f for f in os.listdir(images_dir) if f.endswith('.png')]\n",
    "\n",
    "# Split the dataset into train and temp (which will be further split into val and test)\n",
    "train_files, temp_files = train_test_split(image_files, test_size=0.3, random_state=42)\n",
    "\n",
    "# Split the temp dataset into val and test\n",
    "val_files, test_files = train_test_split(temp_files, test_size=0.5, random_state=42)\n",
    "\n",
    "# Copy files to train directories\n",
    "for file in train_files:\n",
    "    shutil.copy(os.path.join(images_dir, file), os.path.join(train_images_dir, file))\n",
    "    shutil.copy(os.path.join(annotations_dir, file.replace('.png', '.xml')), os.path.join(train_annotations_dir, file.replace('.png', '.xml')))\n",
    "\n",
    "# Copy files to val directories\n",
    "for file in val_files:\n",
    "    shutil.copy(os.path.join(images_dir, file), os.path.join(val_images_dir, file))\n",
    "    shutil.copy(os.path.join(annotations_dir, file.replace('.png', '.xml')), os.path.join(val_annotations_dir, file.replace('.png', '.xml')))\n",
    "\n",
    "# Copy files to test directories\n",
    "for file in test_files:\n",
    "    shutil.copy(os.path.join(images_dir, file), os.path.join(test_images_dir, file))\n",
    "    shutil.copy(os.path.join(annotations_dir, file.replace('.png', '.xml')), os.path.join(test_annotations_dir, file.replace('.png', '.xml')))\n",
    "\n",
    "print(\"Dataset split into training, validation, and test sets.\")"
   ]
  },
  {
   "cell_type": "code",
   "execution_count": null,
   "metadata": {},
   "outputs": [],
   "source": [
    "# Create yaml file for Yolo model training\n",
    "yaml_text = \"\"\"\n",
    "train: datasets/train/images\n",
    "test: datasets/test/images\n",
    "val: datasets/train/images\n",
    "nc: 3  # number of classes (with_mask, without_mask, mask_weared_incorrect)\n",
    "names: ['with_mask', 'without_mask', 'mask_weared_incorrect']\n",
    "\"\"\"\n",
    "\n",
    "with open(\"data.yaml\", 'w') as file:\n",
    "    file.write(yaml_text)\n",
    "\n",
    "# Read the yaml file to see changes are reflecting correctly\n",
    "with open(\"data.yaml\") as f:\n",
    "    contents = f.read()\n",
    "    print(contents)"
   ]
  },
  {
   "cell_type": "code",
   "execution_count": null,
   "metadata": {},
   "outputs": [],
   "source": [
    "# convert annotation to labels for yolo\n",
    "def convert_xml_to_yolo(xml_file, output_dir, dtatype):\n",
    "    tree = ET.parse(xml_file)\n",
    "    root = tree.getroot()\n",
    "    image_id = os.path.splitext(os.path.basename(xml_file))[0]\n",
    "    yolo_annotation = []\n",
    "\n",
    "    for obj in root.findall('object'):\n",
    "        class_name = obj.find('name').text\n",
    "        if class_name not in class_names:\n",
    "            print(f\"Warning: Class '{class_name}' not found in class_names. Skipping.\")\n",
    "            continue\n",
    "        class_id = class_names[class_name]\n",
    "        bbox = obj.find('bndbox')\n",
    "        xmin = float(bbox.find('xmin').text)\n",
    "        ymin = float(bbox.find('ymin').text)\n",
    "        xmax = float(bbox.find('xmax').text)\n",
    "        ymax = float(bbox.find('ymax').text)\n",
    "        \n",
    "        x_center = (xmin + xmax) / 2.0\n",
    "        y_center = (ymin + ymax) / 2.0\n",
    "        width = xmax - xmin\n",
    "        height = ymax - ymin\n",
    "        \n",
    "        # Load the image from folder\n",
    "        img_path = os.path.join('datasets/' + dtatype + '/images', f\"{image_id}.png\")\n",
    "        with Image.open(img_path) as img:\n",
    "            img_width, img_height = img.size\n",
    "        \n",
    "        x_center /= img_width\n",
    "        y_center /= img_height\n",
    "        width /= img_width\n",
    "        height /= img_height\n",
    "        \n",
    "        yolo_annotation.append(f\"{class_id} {x_center} {y_center} {width} {height}\")\n",
    "\n",
    "    with open(os.path.join(output_dir, f\"{image_id}.txt\"), 'w') as f:\n",
    "        f.write(\"\\n\".join(yolo_annotation))\n",
    "\n",
    "# Convert all XML files in the annotations directory\n",
    "data_list = ['train', 'test', 'val']\n",
    "for i in data_list:\n",
    "    annotations_dir = 'datasets/' + i + '/annotations'\n",
    "    output_dir = 'datasets/' + i + '/labels'\n",
    "    os.makedirs(output_dir, exist_ok=True)\n",
    "\n",
    "    # conversion\n",
    "    for xml_file in os.listdir(annotations_dir):\n",
    "        if xml_file.endswith('.xml'):\n",
    "            convert_xml_to_yolo(os.path.join(annotations_dir, xml_file), output_dir, i)\n",
    "\n",
    "print(\"Conversion completed successfully.\")"
   ]
  },
  {
   "cell_type": "code",
   "execution_count": null,
   "metadata": {},
   "outputs": [],
   "source": [
    "# Load a YOLOv8 model\n",
    "model = YOLO('yolov8n.pt') "
   ]
  },
  {
   "cell_type": "code",
   "execution_count": null,
   "metadata": {},
   "outputs": [],
   "source": [
    "# Fine-tune the model\n",
    "n_epoch = 10\n",
    "l_r = 0.001\n",
    "model.train(data='datasets/data.yaml', \n",
    "            epochs=n_epoch, \n",
    "            imgsz=640, \n",
    "            lr0=l_r)\n",
    "\n",
    "# Save the trained model\n",
    "model.save('trained_weights/exp1_yolov8n_trained.pt')"
   ]
  },
  {
   "cell_type": "markdown",
   "metadata": {},
   "source": [
    "Training completed"
   ]
  },
  {
   "cell_type": "markdown",
   "metadata": {},
   "source": [
    "Latency Training"
   ]
  },
  {
   "cell_type": "code",
   "execution_count": null,
   "metadata": {},
   "outputs": [
    {
     "name": "stdout",
     "output_type": "stream",
     "text": [
      "Ultralytics 8.3.52  Python-3.10.16 torch-2.5.1+cpu CPU (Intel Core(TM) i5-7200U 2.50GHz)\n",
      "\u001b[34m\u001b[1mengine\\trainer: \u001b[0mtask=detect, mode=train, model=yolov8s.pt, data=datasets/data.yaml, epochs=100, time=None, patience=100, batch=2, imgsz=640, save=True, save_period=-1, cache=False, device=None, workers=8, project=mask-detection-project, name=yolov8_mask_detection4, exist_ok=False, pretrained=True, optimizer=auto, verbose=True, seed=0, deterministic=True, single_cls=False, rect=False, cos_lr=False, close_mosaic=10, resume=False, amp=True, fraction=1.0, profile=False, freeze=None, multi_scale=False, overlap_mask=True, mask_ratio=4, dropout=0.0, val=True, split=val, save_json=False, save_hybrid=False, conf=None, iou=0.7, max_det=300, half=False, dnn=False, plots=True, source=None, vid_stride=1, stream_buffer=False, visualize=False, augment=False, agnostic_nms=False, classes=None, retina_masks=False, embed=None, show=False, save_frames=False, save_txt=False, save_conf=False, save_crop=False, show_labels=True, show_conf=True, show_boxes=True, line_width=None, format=torchscript, keras=False, optimize=False, int8=False, dynamic=False, simplify=True, opset=None, workspace=None, nms=False, lr0=0.01, lrf=0.01, momentum=0.937, weight_decay=0.0005, warmup_epochs=3.0, warmup_momentum=0.8, warmup_bias_lr=0.1, box=7.5, cls=0.5, dfl=1.5, pose=12.0, kobj=1.0, nbs=64, hsv_h=0.015, hsv_s=0.7, hsv_v=0.4, degrees=0.0, translate=0.1, scale=0.5, shear=0.0, perspective=0.0, flipud=0.0, fliplr=0.5, bgr=0.0, mosaic=1.0, mixup=0.0, copy_paste=0.0, copy_paste_mode=flip, auto_augment=randaugment, erasing=0.4, crop_fraction=1.0, cfg=None, tracker=botsort.yaml, save_dir=mask-detection-project\\yolov8_mask_detection4\n",
      "Overriding model.yaml nc=80 with nc=3\n",
      "\n",
      "                   from  n    params  module                                       arguments                     \n",
      "  0                  -1  1       928  ultralytics.nn.modules.conv.Conv             [3, 32, 3, 2]                 \n",
      "  1                  -1  1     18560  ultralytics.nn.modules.conv.Conv             [32, 64, 3, 2]                \n",
      "  2                  -1  1     29056  ultralytics.nn.modules.block.C2f             [64, 64, 1, True]             \n",
      "  3                  -1  1     73984  ultralytics.nn.modules.conv.Conv             [64, 128, 3, 2]               \n",
      "  4                  -1  2    197632  ultralytics.nn.modules.block.C2f             [128, 128, 2, True]           \n",
      "  5                  -1  1    295424  ultralytics.nn.modules.conv.Conv             [128, 256, 3, 2]              \n",
      "  6                  -1  2    788480  ultralytics.nn.modules.block.C2f             [256, 256, 2, True]           \n",
      "  7                  -1  1   1180672  ultralytics.nn.modules.conv.Conv             [256, 512, 3, 2]              \n",
      "  8                  -1  1   1838080  ultralytics.nn.modules.block.C2f             [512, 512, 1, True]           \n",
      "  9                  -1  1    656896  ultralytics.nn.modules.block.SPPF            [512, 512, 5]                 \n",
      " 10                  -1  1         0  torch.nn.modules.upsampling.Upsample         [None, 2, 'nearest']          \n",
      " 11             [-1, 6]  1         0  ultralytics.nn.modules.conv.Concat           [1]                           \n",
      " 12                  -1  1    591360  ultralytics.nn.modules.block.C2f             [768, 256, 1]                 \n",
      " 13                  -1  1         0  torch.nn.modules.upsampling.Upsample         [None, 2, 'nearest']          \n",
      " 14             [-1, 4]  1         0  ultralytics.nn.modules.conv.Concat           [1]                           \n",
      " 15                  -1  1    148224  ultralytics.nn.modules.block.C2f             [384, 128, 1]                 \n",
      " 16                  -1  1    147712  ultralytics.nn.modules.conv.Conv             [128, 128, 3, 2]              \n",
      " 17            [-1, 12]  1         0  ultralytics.nn.modules.conv.Concat           [1]                           \n",
      " 18                  -1  1    493056  ultralytics.nn.modules.block.C2f             [384, 256, 1]                 \n",
      " 19                  -1  1    590336  ultralytics.nn.modules.conv.Conv             [256, 256, 3, 2]              \n",
      " 20             [-1, 9]  1         0  ultralytics.nn.modules.conv.Concat           [1]                           \n",
      " 21                  -1  1   1969152  ultralytics.nn.modules.block.C2f             [768, 512, 1]                 \n",
      " 22        [15, 18, 21]  1   2117209  ultralytics.nn.modules.head.Detect           [3, [128, 256, 512]]          \n",
      "Model summary: 225 layers, 11,136,761 parameters, 11,136,745 gradients, 28.7 GFLOPs\n",
      "\n",
      "Transferred 349/355 items from pretrained weights\n",
      "Freezing layer 'model.22.dfl.conv.weight'\n"
     ]
    },
    {
     "name": "stderr",
     "output_type": "stream",
     "text": [
      "\u001b[34m\u001b[1mtrain: \u001b[0mScanning E:\\Face-mask-detection\\datasets\\train\\labels... 0 images, 682 backgrounds, 0 corrupt: 100%|██████████| 682/682 [00:15<00:00, 44.89it/s]"
     ]
    },
    {
     "name": "stdout",
     "output_type": "stream",
     "text": [
      "\u001b[34m\u001b[1mtrain: \u001b[0mWARNING  No labels found in E:\\Face-mask-detection\\datasets\\train\\labels.cache. See https://docs.ultralytics.com/datasets for dataset formatting guidance.\n",
      "\u001b[34m\u001b[1mtrain: \u001b[0mNew cache created: E:\\Face-mask-detection\\datasets\\train\\labels.cache\n",
      "WARNING  No labels found in E:\\Face-mask-detection\\datasets\\train\\labels.cache, training may not work correctly. See https://docs.ultralytics.com/datasets for dataset formatting guidance.\n"
     ]
    },
    {
     "name": "stderr",
     "output_type": "stream",
     "text": [
      "\n",
      "\u001b[34m\u001b[1mval: \u001b[0mScanning E:\\Face-mask-detection\\datasets\\val\\labels... 0 images, 85 backgrounds, 0 corrupt: 100%|██████████| 85/85 [00:01<00:00, 50.72it/s]"
     ]
    },
    {
     "name": "stdout",
     "output_type": "stream",
     "text": [
      "\u001b[34m\u001b[1mval: \u001b[0mWARNING  No labels found in E:\\Face-mask-detection\\datasets\\val\\labels.cache. See https://docs.ultralytics.com/datasets for dataset formatting guidance.\n",
      "\u001b[34m\u001b[1mval: \u001b[0mNew cache created: E:\\Face-mask-detection\\datasets\\val\\labels.cache\n",
      "WARNING  No labels found in E:\\Face-mask-detection\\datasets\\val\\labels.cache, training may not work correctly. See https://docs.ultralytics.com/datasets for dataset formatting guidance.\n"
     ]
    },
    {
     "name": "stderr",
     "output_type": "stream",
     "text": [
      "\n"
     ]
    },
    {
     "name": "stdout",
     "output_type": "stream",
     "text": [
      "Plotting labels to mask-detection-project\\yolov8_mask_detection4\\labels.jpg... \n",
      "zero-size array to reduction operation maximum which has no identity\n",
      "\u001b[34m\u001b[1moptimizer:\u001b[0m 'optimizer=auto' found, ignoring 'lr0=0.01' and 'momentum=0.937' and determining best 'optimizer', 'lr0' and 'momentum' automatically... \n",
      "\u001b[34m\u001b[1moptimizer:\u001b[0m AdamW(lr=0.001429, momentum=0.9) with parameter groups 57 weight(decay=0.0), 64 weight(decay=0.0005), 63 bias(decay=0.0)\n",
      "Image sizes 640 train, 640 val\n",
      "Using 0 dataloader workers\n",
      "Logging results to \u001b[1mmask-detection-project\\yolov8_mask_detection4\u001b[0m\n",
      "Starting training for 100 epochs...\n",
      "\n",
      "      Epoch    GPU_mem   box_loss   cls_loss   dfl_loss  Instances       Size\n"
     ]
    },
    {
     "name": "stderr",
     "output_type": "stream",
     "text": [
      "      1/100         0G          0      5.393          0          0        640: 100%|██████████| 341/341 [18:43<00:00,  3.29s/it]\n",
      "                 Class     Images  Instances      Box(P          R      mAP50  mAP50-95): 100%|██████████| 22/22 [00:39<00:00,  1.80s/it]"
     ]
    },
    {
     "name": "stdout",
     "output_type": "stream",
     "text": [
      "                   all         85          0          0          0          0          0\n",
      "WARNING  no labels found in detect set, can not compute metrics without labels\n"
     ]
    },
    {
     "name": "stderr",
     "output_type": "stream",
     "text": [
      "\n"
     ]
    },
    {
     "name": "stdout",
     "output_type": "stream",
     "text": [
      "\n",
      "      Epoch    GPU_mem   box_loss   cls_loss   dfl_loss  Instances       Size\n"
     ]
    },
    {
     "name": "stderr",
     "output_type": "stream",
     "text": [
      "      2/100         0G          0     0.2289          0          0        640:  46%|████▌     | 156/341 [08:16<12:21,  4.01s/it]"
     ]
    }
   ],
   "source": [
    "# Load the YOLOv8 model\n",
    "model = YOLO(\"yolov8s.pt\")  # Pre-trained YOLOv8 small model\n",
    "\n",
    "# Train the model\n",
    "model.train(\n",
    "    data=\"datasets/data.yaml\",\n",
    "    epochs=100,\n",
    "    imgsz=640,\n",
    "    batch=2,\n",
    "    name=\"yolov8_mask_detection\",\n",
    "    project=\"mask-detection-project\"\n",
    ")\n"
   ]
  },
  {
   "cell_type": "code",
   "execution_count": 9,
   "metadata": {},
   "outputs": [
    {
     "name": "stdout",
     "output_type": "stream",
     "text": [
      "Note: you may need to restart the kernel to use updated packages.Requirement already satisfied: ultralytics in c:\\users\\kasish\\anaconda3\\envs\\yolov7\\lib\\site-packages (8.3.52)\n",
      "Requirement already satisfied: pandas>=1.1.4 in c:\\users\\kasish\\anaconda3\\envs\\yolov7\\lib\\site-packages (from ultralytics) (1.5.0)\n",
      "Requirement already satisfied: psutil in c:\\users\\kasish\\anaconda3\\envs\\yolov7\\lib\\site-packages (from ultralytics) (5.9.2)\n",
      "Requirement already satisfied: requests>=2.23.0 in c:\\users\\kasish\\anaconda3\\envs\\yolov7\\lib\\site-packages (from ultralytics) (2.28.1)\n",
      "Requirement already satisfied: py-cpuinfo in c:\\users\\kasish\\anaconda3\\envs\\yolov7\\lib\\site-packages (from ultralytics) (9.0.0)\n",
      "Requirement already satisfied: torchvision>=0.9.0 in c:\\users\\kasish\\anaconda3\\envs\\yolov7\\lib\\site-packages (from ultralytics) (0.13.1)\n",
      "Requirement already satisfied: pillow>=7.1.2 in c:\\users\\kasish\\anaconda3\\envs\\yolov7\\lib\\site-packages (from ultralytics) (9.2.0)\n",
      "Requirement already satisfied: seaborn>=0.11.0 in c:\\users\\kasish\\anaconda3\\envs\\yolov7\\lib\\site-packages (from ultralytics) (0.12.0)\n",
      "Requirement already satisfied: matplotlib>=3.3.0 in c:\\users\\kasish\\anaconda3\\envs\\yolov7\\lib\\site-packages (from ultralytics) (3.6.1)\n",
      "Requirement already satisfied: torch>=1.8.0 in c:\\users\\kasish\\anaconda3\\envs\\yolov7\\lib\\site-packages (from ultralytics) (1.12.1)\n",
      "Requirement already satisfied: ultralytics-thop>=2.0.0 in c:\\users\\kasish\\anaconda3\\envs\\yolov7\\lib\\site-packages (from ultralytics) (2.0.13)\n",
      "Requirement already satisfied: opencv-python>=4.6.0 in c:\\users\\kasish\\anaconda3\\envs\\yolov7\\lib\\site-packages (from ultralytics) (4.6.0.66)\n",
      "Requirement already satisfied: scipy>=1.4.1 in c:\\users\\kasish\\anaconda3\\envs\\yolov7\\lib\\site-packages (from ultralytics) (1.9.2)\n",
      "Requirement already satisfied: tqdm>=4.64.0 in c:\\users\\kasish\\anaconda3\\envs\\yolov7\\lib\\site-packages (from ultralytics) (4.64.1)\n",
      "Requirement already satisfied: numpy>=1.23.0 in c:\\users\\kasish\\anaconda3\\envs\\yolov7\\lib\\site-packages (from ultralytics) (1.23.4)\n",
      "Requirement already satisfied: pyyaml>=5.3.1 in c:\\users\\kasish\\anaconda3\\envs\\yolov7\\lib\\site-packages (from ultralytics) (6.0)\n",
      "Requirement already satisfied: contourpy>=1.0.1 in c:\\users\\kasish\\anaconda3\\envs\\yolov7\\lib\\site-packages (from matplotlib>=3.3.0->ultralytics) (1.0.5)\n",
      "Requirement already satisfied: packaging>=20.0 in c:\\users\\kasish\\anaconda3\\envs\\yolov7\\lib\\site-packages (from matplotlib>=3.3.0->ultralytics) (21.3)\n",
      "Requirement already satisfied: pyparsing>=2.2.1 in c:\\users\\kasish\\anaconda3\\envs\\yolov7\\lib\\site-packages (from matplotlib>=3.3.0->ultralytics) (3.0.9)\n",
      "Requirement already satisfied: fonttools>=4.22.0 in c:\\users\\kasish\\anaconda3\\envs\\yolov7\\lib\\site-packages (from matplotlib>=3.3.0->ultralytics) (4.37.4)\n",
      "Requirement already satisfied: python-dateutil>=2.7 in c:\\users\\kasish\\anaconda3\\envs\\yolov7\\lib\\site-packages (from matplotlib>=3.3.0->ultralytics) (2.8.2)\n",
      "Requirement already satisfied: kiwisolver>=1.0.1 in c:\\users\\kasish\\anaconda3\\envs\\yolov7\\lib\\site-packages (from matplotlib>=3.3.0->ultralytics) (1.4.4)\n",
      "Requirement already satisfied: cycler>=0.10 in c:\\users\\kasish\\anaconda3\\envs\\yolov7\\lib\\site-packages (from matplotlib>=3.3.0->ultralytics) (0.11.0)\n",
      "Requirement already satisfied: pytz>=2020.1 in c:\\users\\kasish\\anaconda3\\envs\\yolov7\\lib\\site-packages (from pandas>=1.1.4->ultralytics) (2022.4)\n",
      "Requirement already satisfied: charset-normalizer<3,>=2 in c:\\users\\kasish\\anaconda3\\envs\\yolov7\\lib\\site-packages (from requests>=2.23.0->ultralytics) (2.1.1)\n",
      "Requirement already satisfied: idna<4,>=2.5 in c:\\users\\kasish\\anaconda3\\envs\\yolov7\\lib\\site-packages (from requests>=2.23.0->ultralytics) (3.4)\n",
      "Requirement already satisfied: certifi>=2017.4.17 in c:\\users\\kasish\\anaconda3\\envs\\yolov7\\lib\\site-packages (from requests>=2.23.0->ultralytics) (2024.12.14)\n",
      "Requirement already satisfied: urllib3<1.27,>=1.21.1 in c:\\users\\kasish\\anaconda3\\envs\\yolov7\\lib\\site-packages (from requests>=2.23.0->ultralytics) (1.26.12)\n",
      "Requirement already satisfied: typing-extensions in c:\\users\\kasish\\anaconda3\\envs\\yolov7\\lib\\site-packages (from torch>=1.8.0->ultralytics) (4.4.0)\n",
      "Requirement already satisfied: colorama in c:\\users\\kasish\\anaconda3\\envs\\yolov7\\lib\\site-packages (from tqdm>=4.64.0->ultralytics) (0.4.5)\n",
      "Requirement already satisfied: six>=1.5 in c:\\users\\kasish\\anaconda3\\envs\\yolov7\\lib\\site-packages (from python-dateutil>=2.7->matplotlib>=3.3.0->ultralytics) (1.16.0)\n",
      "\n"
     ]
    }
   ],
   "source": [
    "pip install --upgrade ultralytics\n"
   ]
  }
 ],
 "metadata": {
  "kernelspec": {
   "display_name": ".venv",
   "language": "python",
   "name": "python3"
  },
  "language_info": {
   "codemirror_mode": {
    "name": "ipython",
    "version": 3
   },
   "file_extension": ".py",
   "mimetype": "text/x-python",
   "name": "python",
   "nbconvert_exporter": "python",
   "pygments_lexer": "ipython3",
   "version": "3.10.16"
  }
 },
 "nbformat": 4,
 "nbformat_minor": 2
}
